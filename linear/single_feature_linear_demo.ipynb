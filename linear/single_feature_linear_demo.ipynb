{
 "cells": [
  {
   "cell_type": "markdown",
   "metadata": {},
   "source": [
    "# Single Feature Linear Model"
   ]
  },
  {
   "cell_type": "markdown",
   "metadata": {},
   "source": [
    "## Creating Data"
   ]
  },
  {
   "cell_type": "code",
   "execution_count": 1,
   "metadata": {},
   "outputs": [],
   "source": [
    "import numpy as np\n",
    "import pandas as pd\n",
    "import matplotlib.pyplot as plt\n",
    "%matplotlib inline"
   ]
  },
  {
   "cell_type": "code",
   "execution_count": 2,
   "metadata": {},
   "outputs": [],
   "source": [
    "# 10 thousands points\n",
    "x_data = np.linspace(0.0, 10.0, 10000)"
   ]
  },
  {
   "cell_type": "code",
   "execution_count": 3,
   "metadata": {},
   "outputs": [],
   "source": [
    "# noise\n",
    "noise = np.random.randn(len(x_data))"
   ]
  },
  {
   "cell_type": "code",
   "execution_count": 4,
   "metadata": {},
   "outputs": [],
   "source": [
    "# y = m*x + b + noise\n",
    "y_data = (0.5 * x_data ) + 5 + noise"
   ]
  },
  {
   "cell_type": "code",
   "execution_count": 5,
   "metadata": {},
   "outputs": [
    {
     "data": {
      "text/html": [
       "<div>\n",
       "<style scoped>\n",
       "    .dataframe tbody tr th:only-of-type {\n",
       "        vertical-align: middle;\n",
       "    }\n",
       "\n",
       "    .dataframe tbody tr th {\n",
       "        vertical-align: top;\n",
       "    }\n",
       "\n",
       "    .dataframe thead th {\n",
       "        text-align: right;\n",
       "    }\n",
       "</style>\n",
       "<table border=\"1\" class=\"dataframe\">\n",
       "  <thead>\n",
       "    <tr style=\"text-align: right;\">\n",
       "      <th></th>\n",
       "      <th>X</th>\n",
       "      <th>Y</th>\n",
       "    </tr>\n",
       "  </thead>\n",
       "  <tbody>\n",
       "    <tr>\n",
       "      <th>0</th>\n",
       "      <td>0.000</td>\n",
       "      <td>5.542793</td>\n",
       "    </tr>\n",
       "    <tr>\n",
       "      <th>1</th>\n",
       "      <td>0.001</td>\n",
       "      <td>6.819872</td>\n",
       "    </tr>\n",
       "    <tr>\n",
       "      <th>2</th>\n",
       "      <td>0.002</td>\n",
       "      <td>5.986652</td>\n",
       "    </tr>\n",
       "    <tr>\n",
       "      <th>3</th>\n",
       "      <td>0.003</td>\n",
       "      <td>4.354041</td>\n",
       "    </tr>\n",
       "    <tr>\n",
       "      <th>4</th>\n",
       "      <td>0.004</td>\n",
       "      <td>3.935826</td>\n",
       "    </tr>\n",
       "  </tbody>\n",
       "</table>\n",
       "</div>"
      ],
      "text/plain": [
       "       X         Y\n",
       "0  0.000  5.542793\n",
       "1  0.001  6.819872\n",
       "2  0.002  5.986652\n",
       "3  0.003  4.354041\n",
       "4  0.004  3.935826"
      ]
     },
     "execution_count": 5,
     "metadata": {},
     "output_type": "execute_result"
    }
   ],
   "source": [
    "# create pandas data frame\n",
    "cols = ['X', 'Y']\n",
    "my_df = pd.DataFrame(list(zip(x_data, y_data)), columns=cols)\n",
    "my_df.head()"
   ]
  },
  {
   "cell_type": "code",
   "execution_count": 6,
   "metadata": {},
   "outputs": [
    {
     "data": {
      "text/plain": [
       "<matplotlib.axes._subplots.AxesSubplot at 0x112f37550>"
      ]
     },
     "execution_count": 6,
     "metadata": {},
     "output_type": "execute_result"
    },
    {
     "data": {
      "image/png": "[encoded data removed]",
      "text/plain": [
       "<Figure size 432x288 with 1 Axes>"
      ]
     },
     "metadata": {},
     "output_type": "display_data"
    }
   ],
   "source": [
    "my_df.sample(n=500).plot(kind='scatter', x='X', y='Y')"
   ]
  },
  {
   "cell_type": "markdown",
   "metadata": {},
   "source": [
    "# TensorFlow "
   ]
  },
  {
   "cell_type": "markdown",
   "metadata": {},
   "source": [
    "## Linear Model"
   ]
  },
  {
   "cell_type": "code",
   "execution_count": 7,
   "metadata": {},
   "outputs": [],
   "source": [
    "import tensorflow as tf"
   ]
  },
  {
   "cell_type": "code",
   "execution_count": 8,
   "metadata": {},
   "outputs": [],
   "source": [
    "# Pick up random 10 points each time\n",
    "batch_size = 10\n",
    "\n",
    "# Reset and create TF session\n",
    "tf.reset_default_graph() \n",
    "sess = tf.Session()     "
   ]
  },
  {
   "cell_type": "code",
   "execution_count": 9,
   "metadata": {},
   "outputs": [
    {
     "data": {
      "text/plain": [
       "<tf.Tensor 'intercept:0' shape=() dtype=string>"
      ]
     },
     "execution_count": 9,
     "metadata": {},
     "output_type": "execute_result"
    }
   ],
   "source": [
    "# Variables\n",
    "W = tf.Variable(1.0)\n",
    "b = tf.Variable(1.0)\n",
    "\n",
    "# Create Summaries\n",
    "tf.summary.histogram('slopeh', W)   # histogram\n",
    "tf.summary.scalar('slopes', W)      # scalar\n",
    "tf.summary.scalar('intercept', b)    "
   ]
  },
  {
   "cell_type": "code",
   "execution_count": 10,
   "metadata": {},
   "outputs": [],
   "source": [
    "# Placeholders\n",
    "xph = tf.placeholder(tf.float32,[batch_size])\n",
    "yph = tf.placeholder(tf.float32,[batch_size])"
   ]
  },
  {
   "cell_type": "code",
   "execution_count": 11,
   "metadata": {},
   "outputs": [],
   "source": [
    "# Linear Model\n",
    "y_model = W * xph + b"
   ]
  },
  {
   "cell_type": "code",
   "execution_count": 12,
   "metadata": {},
   "outputs": [],
   "source": [
    "import os\n",
    "\n",
    "# Error\n",
    "error = tf.reduce_sum(tf.square(yph - y_model))  # Square the error\n",
    "tf.summary.scalar('error', error)                # Create Summaries\n",
    "\n",
    "# merge all summaries and create a writer object that will write during training\n",
    "summaries = tf.summary.merge_all()\n",
    "writer = tf.summary.FileWriter(logdir='./single-feature-linear/linear_logs', graph=sess.graph)"
   ]
  },
  {
   "cell_type": "code",
   "execution_count": 13,
   "metadata": {},
   "outputs": [],
   "source": [
    "# Init variables\n",
    "init = tf.variables_initializer([W, b])\n",
    "sess.run(init)"
   ]
  },
  {
   "cell_type": "code",
   "execution_count": 14,
   "metadata": {},
   "outputs": [],
   "source": [
    "# run optimization again with smaller learning rate\n",
    "opt = tf.train.GradientDescentOptimizer(learning_rate=0.001)\n",
    "# train = opt.minimize(rmse)\n",
    "train = opt.minimize(error)"
   ]
  },
  {
   "cell_type": "code",
   "execution_count": 15,
   "metadata": {},
   "outputs": [
    {
     "name": "stdout",
     "output_type": "stream",
     "text": [
      "Test error: 16.626338958740234\n",
      "Test error: 26.60120964050293\n",
      "Test error: 18.18143081665039\n",
      "Test error: 15.872772216796875\n",
      "Test error: 12.281600952148438\n",
      "Test error: 12.28039264678955\n",
      "Test error: 12.217825889587402\n",
      "Test error: 13.05111312866211\n",
      "Test error: 16.33979034423828\n",
      "Test error: 7.077779769897461\n",
      "Test error: 16.761428833007812\n",
      "Test error: 10.57364559173584\n",
      "Test error: 4.945190906524658\n",
      "Test error: 6.390972137451172\n",
      "Test error: 11.490489959716797\n",
      "Test error: 5.394791603088379\n",
      "Test error: 5.082497596740723\n",
      "Test error: 7.213672161102295\n",
      "Test error: 7.081526756286621\n"
     ]
    }
   ],
   "source": [
    "batches = 1000\n",
    "    \n",
    "for i in range(batches):\n",
    "\n",
    "    # Random index\n",
    "    rand_ind = np.random.randint(len(x_data),size=batch_size)\n",
    "\n",
    "    # Pick up random data from the data set\n",
    "    feed = {xph:x_data[rand_ind],yph:y_data[rand_ind]}\n",
    "\n",
    "    # Print out error every 50 steps, otherwise keep training\n",
    "    if (i%50 == 0) & (i > 0):\n",
    "        smry, nerror = sess.run([summaries, error], feed_dict=feed)\n",
    "        writer.add_summary(smry, i)\n",
    "        print('Test error: {}'.format(nerror))\n",
    "    else:\n",
    "        smry, _ = sess.run([summaries, train], feed_dict=feed)\n",
    "        writer.add_summary(smry, i)\n",
    "        "
   ]
  },
  {
   "cell_type": "code",
   "execution_count": 16,
   "metadata": {},
   "outputs": [
    {
     "name": "stdout",
     "output_type": "stream",
     "text": [
      "0.521988\n",
      "4.938254\n"
     ]
    }
   ],
   "source": [
    "model_w, model_b = sess.run([W,b])\n",
    "print(model_w)\n",
    "print(model_b)"
   ]
  },
  {
   "cell_type": "code",
   "execution_count": 17,
   "metadata": {},
   "outputs": [
    {
     "data": {
      "text/plain": [
       "[<matplotlib.lines.Line2D at 0x116f6abe0>]"
      ]
     },
     "execution_count": 17,
     "metadata": {},
     "output_type": "execute_result"
    },
    {
     "data": {
      "image/png": "[encoded data removed]",
      "text/plain": [
       "<Figure size 432x288 with 1 Axes>"
      ]
     },
     "metadata": {},
     "output_type": "display_data"
    }
   ],
   "source": [
    "y_hat = x_data * model_w + model_b\n",
    "my_df.sample(n=250).plot(kind='scatter',x='X',y='Y')\n",
    "plt.plot(x_data,y_hat,'r')"
   ]
  },
  {
   "cell_type": "markdown",
   "metadata": {},
   "source": [
    "## TensorFlow API - Linear Regressor"
   ]
  },
  {
   "cell_type": "code",
   "execution_count": 18,
   "metadata": {},
   "outputs": [
    {
     "name": "stdout",
     "output_type": "stream",
     "text": [
      "INFO:tensorflow:Using default config.\n",
      "WARNING:tensorflow:Using temporary folder as model directory: /var/folders/nk/v2fqyl0s6b3gtb2h34pw9pdm0000gp/T/tmpw7leu6o6\n",
      "INFO:tensorflow:Using config: {'_model_dir': '/var/folders/nk/v2fqyl0s6b3gtb2h34pw9pdm0000gp/T/tmpw7leu6o6', '_tf_random_seed': None, '_save_summary_steps': 100, '_save_checkpoints_steps': None, '_save_checkpoints_secs': 600, '_session_config': None, '_keep_checkpoint_max': 5, '_keep_checkpoint_every_n_hours': 10000, '_log_step_count_steps': 100, '_train_distribute': None, '_service': None, '_cluster_spec': <tensorflow.python.training.server_lib.ClusterSpec object at 0x117004a90>, '_task_type': 'worker', '_task_id': 0, '_global_id_in_cluster': 0, '_master': '', '_evaluation_master': '', '_is_chief': True, '_num_ps_replicas': 0, '_num_worker_replicas': 1}\n"
     ]
    }
   ],
   "source": [
    "# create feature column and linear regressor estimator\n",
    "\n",
    "feat_cols = [tf.feature_column.numeric_column('x',shape=[1])]\n",
    "estimator = tf.estimator.LinearRegressor(feature_columns=feat_cols)"
   ]
  },
  {
   "cell_type": "code",
   "execution_count": 19,
   "metadata": {},
   "outputs": [],
   "source": [
    "# use sklearn test train spliter\n",
    "from sklearn.model_selection import train_test_split\n",
    "\n",
    "# 70% training data, 30% test\n",
    "Xtr, Xts, Ytr, Yts = train_test_split(x_data,y_data,test_size=0.3, random_state = 101)"
   ]
  },
  {
   "cell_type": "code",
   "execution_count": 20,
   "metadata": {},
   "outputs": [],
   "source": [
    "# input functions\n",
    "\n",
    "input_func = tf.estimator.inputs.numpy_input_fn({'x' : Xtr},Ytr ,batch_size=10,num_epochs=None,shuffle=True)\n",
    "\n",
    "train_input_func = tf.estimator.inputs.numpy_input_fn({'x' : Xtr}, Ytr, batch_size=10,num_epochs=1000,shuffle=False)\n",
    "\n",
    "eval_input_func = tf.estimator.inputs.numpy_input_fn({'x':Xts},Yts,batch_size=10,num_epochs=1000,shuffle=False)"
   ]
  },
  {
   "cell_type": "code",
   "execution_count": 21,
   "metadata": {},
   "outputs": [
    {
     "name": "stdout",
     "output_type": "stream",
     "text": [
      "INFO:tensorflow:Calling model_fn.\n",
      "INFO:tensorflow:Done calling model_fn.\n",
      "INFO:tensorflow:Create CheckpointSaverHook.\n",
      "INFO:tensorflow:Graph was finalized.\n",
      "INFO:tensorflow:Running local_init_op.\n",
      "INFO:tensorflow:Done running local_init_op.\n",
      "INFO:tensorflow:Saving checkpoints for 1 into /var/folders/nk/v2fqyl0s6b3gtb2h34pw9pdm0000gp/T/tmpw7leu6o6/model.ckpt.\n",
      "INFO:tensorflow:loss = 627.2811, step = 1\n",
      "INFO:tensorflow:global_step/sec: 1067.07\n",
      "INFO:tensorflow:loss = 26.15951, step = 101 (0.096 sec)\n",
      "INFO:tensorflow:global_step/sec: 1404.36\n",
      "INFO:tensorflow:loss = 52.199104, step = 201 (0.071 sec)\n",
      "INFO:tensorflow:global_step/sec: 1295.4\n",
      "INFO:tensorflow:loss = 32.0537, step = 301 (0.076 sec)\n",
      "INFO:tensorflow:global_step/sec: 1471.15\n",
      "INFO:tensorflow:loss = 25.008963, step = 401 (0.068 sec)\n",
      "INFO:tensorflow:global_step/sec: 1326.65\n",
      "INFO:tensorflow:loss = 9.070553, step = 501 (0.075 sec)\n",
      "INFO:tensorflow:global_step/sec: 1337.99\n",
      "INFO:tensorflow:loss = 13.74653, step = 601 (0.075 sec)\n",
      "INFO:tensorflow:global_step/sec: 1532.17\n",
      "INFO:tensorflow:loss = 4.3100376, step = 701 (0.065 sec)\n",
      "INFO:tensorflow:global_step/sec: 1303.06\n",
      "INFO:tensorflow:loss = 11.49123, step = 801 (0.077 sec)\n",
      "INFO:tensorflow:global_step/sec: 1312.99\n",
      "INFO:tensorflow:loss = 12.77904, step = 901 (0.076 sec)\n",
      "INFO:tensorflow:Saving checkpoints for 1000 into /var/folders/nk/v2fqyl0s6b3gtb2h34pw9pdm0000gp/T/tmpw7leu6o6/model.ckpt.\n",
      "INFO:tensorflow:Loss for final step: 7.0825043.\n"
     ]
    },
    {
     "data": {
      "text/plain": [
       "<tensorflow.python.estimator.canned.linear.LinearRegressor at 0x117004f28>"
      ]
     },
     "execution_count": 21,
     "metadata": {},
     "output_type": "execute_result"
    }
   ],
   "source": [
    "estimator.train(input_fn=input_func,steps=1000)"
   ]
  },
  {
   "cell_type": "code",
   "execution_count": 22,
   "metadata": {},
   "outputs": [
    {
     "name": "stdout",
     "output_type": "stream",
     "text": [
      "INFO:tensorflow:Calling model_fn.\n",
      "INFO:tensorflow:Done calling model_fn.\n",
      "INFO:tensorflow:Starting evaluation at 2018-06-06-03:51:58\n",
      "INFO:tensorflow:Graph was finalized.\n",
      "INFO:tensorflow:Restoring parameters from /var/folders/nk/v2fqyl0s6b3gtb2h34pw9pdm0000gp/T/tmpw7leu6o6/model.ckpt-1000\n",
      "INFO:tensorflow:Running local_init_op.\n",
      "INFO:tensorflow:Done running local_init_op.\n",
      "INFO:tensorflow:Evaluation [100/1000]\n",
      "INFO:tensorflow:Evaluation [200/1000]\n",
      "INFO:tensorflow:Evaluation [300/1000]\n",
      "INFO:tensorflow:Evaluation [400/1000]\n",
      "INFO:tensorflow:Evaluation [500/1000]\n",
      "INFO:tensorflow:Evaluation [600/1000]\n",
      "INFO:tensorflow:Evaluation [700/1000]\n",
      "INFO:tensorflow:Evaluation [800/1000]\n",
      "INFO:tensorflow:Evaluation [900/1000]\n",
      "INFO:tensorflow:Evaluation [1000/1000]\n",
      "INFO:tensorflow:Finished evaluation at 2018-06-06-03:51:58\n",
      "INFO:tensorflow:Saving dict for global step 1000: average_loss = 1.1049023, global_step = 1000, loss = 11.049023\n"
     ]
    }
   ],
   "source": [
    "train_metrics = estimator.evaluate(input_fn=train_input_func,steps=1000)"
   ]
  },
  {
   "cell_type": "code",
   "execution_count": 23,
   "metadata": {},
   "outputs": [
    {
     "name": "stdout",
     "output_type": "stream",
     "text": [
      "INFO:tensorflow:Calling model_fn.\n",
      "INFO:tensorflow:Done calling model_fn.\n",
      "INFO:tensorflow:Starting evaluation at 2018-06-06-03:52:00\n",
      "INFO:tensorflow:Graph was finalized.\n",
      "INFO:tensorflow:Restoring parameters from /var/folders/nk/v2fqyl0s6b3gtb2h34pw9pdm0000gp/T/tmpw7leu6o6/model.ckpt-1000\n",
      "INFO:tensorflow:Running local_init_op.\n",
      "INFO:tensorflow:Done running local_init_op.\n",
      "INFO:tensorflow:Evaluation [100/1000]\n",
      "INFO:tensorflow:Evaluation [200/1000]\n",
      "INFO:tensorflow:Evaluation [300/1000]\n",
      "INFO:tensorflow:Evaluation [400/1000]\n",
      "INFO:tensorflow:Evaluation [500/1000]\n",
      "INFO:tensorflow:Evaluation [600/1000]\n",
      "INFO:tensorflow:Evaluation [700/1000]\n",
      "INFO:tensorflow:Evaluation [800/1000]\n",
      "INFO:tensorflow:Evaluation [900/1000]\n",
      "INFO:tensorflow:Evaluation [1000/1000]\n",
      "INFO:tensorflow:Finished evaluation at 2018-06-06-03:52:01\n",
      "INFO:tensorflow:Saving dict for global step 1000: average_loss = 1.0885428, global_step = 1000, loss = 10.885428\n"
     ]
    }
   ],
   "source": [
    "eval_metrics = estimator.evaluate(input_fn=eval_input_func,steps=1000)"
   ]
  },
  {
   "cell_type": "code",
   "execution_count": 24,
   "metadata": {},
   "outputs": [
    {
     "name": "stdout",
     "output_type": "stream",
     "text": [
      "train metrics: {'average_loss': 1.1049023, 'loss': 11.049023, 'global_step': 1000}\n",
      "eval metrics: {'average_loss': 1.0885428, 'loss': 10.885428, 'global_step': 1000}\n"
     ]
    }
   ],
   "source": [
    "print(\"train metrics: {}\".format(train_metrics))\n",
    "print(\"eval metrics: {}\".format(eval_metrics))"
   ]
  },
  {
   "cell_type": "code",
   "execution_count": 25,
   "metadata": {},
   "outputs": [],
   "source": [
    "input_fn_predict = tf.estimator.inputs.numpy_input_fn({'x':np.linspace(0,10,20)},shuffle=False)"
   ]
  },
  {
   "cell_type": "code",
   "execution_count": 26,
   "metadata": {},
   "outputs": [
    {
     "name": "stdout",
     "output_type": "stream",
     "text": [
      "INFO:tensorflow:Calling model_fn.\n",
      "INFO:tensorflow:Done calling model_fn.\n",
      "INFO:tensorflow:Graph was finalized.\n",
      "INFO:tensorflow:Restoring parameters from /var/folders/nk/v2fqyl0s6b3gtb2h34pw9pdm0000gp/T/tmpw7leu6o6/model.ckpt-1000\n",
      "INFO:tensorflow:Running local_init_op.\n",
      "INFO:tensorflow:Done running local_init_op.\n"
     ]
    }
   ],
   "source": [
    "predictions = []# np.array([])\n",
    "for x in estimator.predict(input_fn=input_fn_predict):\n",
    "    predictions.append(x['predictions'])"
   ]
  },
  {
   "cell_type": "code",
   "execution_count": 27,
   "metadata": {},
   "outputs": [
    {
     "data": {
      "text/plain": [
       "[<matplotlib.lines.Line2D at 0x117f4e2b0>]"
      ]
     },
     "execution_count": 27,
     "metadata": {},
     "output_type": "execute_result"
    },
    {
     "data": {
      "image/png": "[encoded data removed]",
      "text/plain": [
       "<Figure size 432x288 with 1 Axes>"
      ]
     },
     "metadata": {},
     "output_type": "display_data"
    }
   ],
   "source": [
    "my_df.sample(n=250).plot(kind='scatter',x='X',y='Y')\n",
    "plt.plot(np.linspace(0,10,20),predictions,'r*')"
   ]
  },
  {
   "cell_type": "code",
   "execution_count": 28,
   "metadata": {},
   "outputs": [
    {
     "name": "stdout",
     "output_type": "stream",
     "text": [
      "Variable:0 0.521988\n",
      "Variable_1:0 4.938254\n"
     ]
    }
   ],
   "source": [
    "# print out model variables\n",
    "tvars = tf.trainable_variables()\n",
    "tvars_vals = sess.run(tvars)\n",
    "\n",
    "for var, val in zip(tvars, tvars_vals):\n",
    "    print(var.name, val)  # Prints the name of the variable alongside its value."
   ]
  }
 ],
 "metadata": {
  "kernelspec": {
   "display_name": "Python 3",
   "language": "python",
   "name": "python3"
  },
  "language_info": {
   "codemirror_mode": {
    "name": "ipython",
    "version": 3
   },
   "file_extension": ".py",
   "mimetype": "text/x-python",
   "name": "python",
   "nbconvert_exporter": "python",
   "pygments_lexer": "ipython3",
   "version": "3.6.5"
  }
 },
 "nbformat": 4,
 "nbformat_minor": 2
}
